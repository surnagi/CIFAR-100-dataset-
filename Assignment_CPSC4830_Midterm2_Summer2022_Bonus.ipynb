{
 "cells": [
  {
   "cell_type": "markdown",
   "metadata": {
    "id": "Dk3nAR9c_RJ-"
   },
   "source": [
    "# Midterm 2\n",
    "\n",
    "# Time Limit - 2.30 pm to 6.30 pm\n",
    "\n",
    "# 20 + 20 - 40 Marks"
   ]
  },
  {
   "cell_type": "markdown",
   "metadata": {
    "id": "5t6xqHMb_RKA"
   },
   "source": [
    "### Instructions\n",
    "\n",
    "- The exam must be submitted on D2L by 6.30pm. No exceptions here. Only a single .ipynb file\n",
    "\n",
    "- Most Important - Your submitted code should not match a code from the internet. If it does, it is a straight 0.\n",
    "\n",
    "- The grades for Midterm1 and Midterm2, both will be considered and i will average out the grades.\n",
    "\n",
    "- You must submit individually You will be liable for penalties if your work matches exactly the other person in your class or from the internet. So be careful."
   ]
  },
  {
   "cell_type": "markdown",
   "metadata": {
    "id": "XZfyO6Gu_RKB"
   },
   "source": [
    "## Problem 1\n",
    "### The relevant Dataset (CIFAR 100) have been described below.\n",
    "\n",
    "\n"
   ]
  },
  {
   "cell_type": "markdown",
   "metadata": {
    "id": "NIFcP3Tu_RKC"
   },
   "source": [
    "This is a dataset of 50,000 32x32 color training images and 10,000 test images, labeled over 100 fine-grained classes that are grouped into 20 coarse-grained classes.\n",
    "\n",
    "- Images have low resolution (32x32). \n",
    "\n",
    "- Data Source: https://www.cs.toronto.edu/~kriz/cifar.html\n",
    "\n",
    "Read the website thoroughly.\n",
    "\n",
    "The dataset can be directly fetched from Keras.io Website for easy incorporation into your code.\n",
    "https://keras.io/api/datasets/cifar100/"
   ]
  },
  {
   "cell_type": "markdown",
   "metadata": {
    "id": "kr6n6Tsz_RKC"
   },
   "source": [
    "### CIFAR-100 Image label detection of provided images\n",
    "\n",
    "### Choose PCA+Random Forest+XGBoost And apply the techniques to the CIFAR-100 Dataset to Classify the Images.\n",
    "\n",
    "### Apply PCA for reducing Dimensions. [5 Marks]\n",
    "### Apply Random Forest with AdaBoost for model creation. [5 Marks].\n",
    "### Recall or Precision Value? Which one should be optimised?? Show your optimised confusion matrix. [5 Marks]\n",
    "\n",
    "### Download the 4 images provided on D2L. These images are of television,camel,wardrobe, and truck. Create a validation dataset using these images and predict the labels using the model of CIFAR-100 created by you as above. [5 Marks]"
   ]
  },
  {
   "cell_type": "code",
   "execution_count": null,
   "metadata": {
    "id": "oQP4yOim_RKD"
   },
   "outputs": [],
   "source": [
    "#Importing Library\n",
    "import tensorflow as tf\n",
    "from tensorflow.keras import datasets, layers, models\n",
    "import matplotlib.pyplot as plt\n",
    "import numpy as np\n",
    "import pandas as pd"
   ]
  },
  {
   "cell_type": "code",
   "execution_count": null,
   "metadata": {
    "colab": {
     "base_uri": "https://localhost:8080/"
    },
    "id": "rNf7hKQ6TPiU",
    "outputId": "9861a3dd-fa85-4198-dfd6-857309b5b49f"
   },
   "outputs": [
    {
     "name": "stdout",
     "output_type": "stream",
     "text": [
      "(50000, 32, 32, 3)\n",
      "(10000, 32, 32, 3)\n",
      "(50000, 1)\n",
      "(10000, 1)\n"
     ]
    }
   ],
   "source": [
    "# Importing dataset CIFAR-100\n",
    "(X_train, y_train), (X_test, y_test) = datasets.cifar100.load_data()\n",
    "\n",
    "print(X_train.shape)\n",
    "print(X_test.shape)\n",
    "print(y_train.shape)\n",
    "print(y_test.shape)"
   ]
  },
  {
   "cell_type": "code",
   "execution_count": null,
   "metadata": {
    "colab": {
     "base_uri": "https://localhost:8080/"
    },
    "id": "8D-SFti7VVcH",
    "outputId": "7a8e3547-0526-4484-f798-a87c57269d47"
   },
   "outputs": [
    {
     "name": "stdout",
     "output_type": "stream",
     "text": [
      "Total number of outputs :  100\n",
      "Output classes :  [ 0  1  2  3  4  5  6  7  8  9 10 11 12 13 14 15 16 17 18 19 20 21 22 23\n",
      " 24 25 26 27 28 29 30 31 32 33 34 35 36 37 38 39 40 41 42 43 44 45 46 47\n",
      " 48 49 50 51 52 53 54 55 56 57 58 59 60 61 62 63 64 65 66 67 68 69 70 71\n",
      " 72 73 74 75 76 77 78 79 80 81 82 83 84 85 86 87 88 89 90 91 92 93 94 95\n",
      " 96 97 98 99]\n"
     ]
    }
   ],
   "source": [
    "# Find the unique numbers from the train labels\n",
    "classes = np.unique(y_train)\n",
    "nClasses = len(classes)\n",
    "print('Total number of outputs : ', nClasses)\n",
    "print('Output classes : ', classes)"
   ]
  },
  {
   "cell_type": "markdown",
   "metadata": {
    "id": "wiujF5jidqTu"
   },
   "source": [
    "Applying PCA"
   ]
  },
  {
   "cell_type": "code",
   "execution_count": null,
   "metadata": {
    "colab": {
     "base_uri": "https://localhost:8080/"
    },
    "id": "zKMsaYNxVbzF",
    "outputId": "03e9e538-f767-4485-a520-9740029cd315"
   },
   "outputs": [
    {
     "data": {
      "text/plain": [
       "(0, 255)"
      ]
     },
     "execution_count": 5,
     "metadata": {},
     "output_type": "execute_result"
    }
   ],
   "source": [
    "#getting min max value \n",
    "np.min(X_train),np.max(X_train)"
   ]
  },
  {
   "cell_type": "code",
   "execution_count": null,
   "metadata": {
    "id": "gvOFn8iHThvQ"
   },
   "outputs": [],
   "source": [
    "# Lets Normalize pixel values\n",
    "X_train= X_train / 255.0\n",
    "X_test = X_test/255.0"
   ]
  },
  {
   "cell_type": "code",
   "execution_count": null,
   "metadata": {
    "colab": {
     "base_uri": "https://localhost:8080/"
    },
    "id": "wwzJnqXrWzCD",
    "outputId": "2421ca93-4d59-4b4b-b720-be6dd490b206"
   },
   "outputs": [
    {
     "data": {
      "text/plain": [
       "(0.0, 1.0)"
      ]
     },
     "execution_count": 7,
     "metadata": {},
     "output_type": "execute_result"
    }
   ],
   "source": [
    "#getting min max value \n",
    "np.min(X_train),np.max(X_train)"
   ]
  },
  {
   "cell_type": "code",
   "execution_count": null,
   "metadata": {
    "id": "fbTzv34dW7wq"
   },
   "outputs": [],
   "source": [
    "X_train_flat = X_train.reshape(-1,3072)\n",
    "X_test_flat = X_test.reshape(-1,3072)"
   ]
  },
  {
   "cell_type": "code",
   "execution_count": null,
   "metadata": {
    "id": "0xHKbpDYS86H"
   },
   "outputs": [],
   "source": [
    "#Applying PCA\n",
    "from sklearn.decomposition import PCA\n",
    "pca_cifar_train = PCA(0.95)\n",
    "pca_train = pca_cifar_train.fit_transform(X_train_flat)"
   ]
  },
  {
   "cell_type": "code",
   "execution_count": null,
   "metadata": {
    "colab": {
     "base_uri": "https://localhost:8080/"
    },
    "id": "JN97QOFB5Q1x",
    "outputId": "eff4089b-dde5-4ba9-cc80-b101600ce24b"
   },
   "outputs": [
    {
     "data": {
      "text/plain": [
       "202"
      ]
     },
     "execution_count": 10,
     "metadata": {},
     "output_type": "execute_result"
    }
   ],
   "source": [
    "pca_cifar_train.n_components_"
   ]
  },
  {
   "cell_type": "code",
   "execution_count": null,
   "metadata": {
    "colab": {
     "base_uri": "https://localhost:8080/"
    },
    "id": "JmOo3XzOScc8",
    "outputId": "24b77a3c-41fc-4003-9903-a29600cc5d18"
   },
   "outputs": [
    {
     "data": {
      "text/plain": [
       "array([[0.99237723, 1.04300595, 1.08029623, ..., 0.39478951, 0.41245041,\n",
       "        0.22241171],\n",
       "       [0.97603838, 0.98710233, 0.96380074, ..., 1.02405293, 1.01687433,\n",
       "        1.02550249],\n",
       "       [0.99155521, 0.96963419, 0.96869047, ..., 0.9623983 , 0.92000751,\n",
       "        0.86371454],\n",
       "       ...,\n",
       "       [1.04549596, 1.00873445, 0.95956725, ..., 0.82737772, 0.78803809,\n",
       "        0.72424315],\n",
       "       [0.61245299, 0.59895963, 0.47338327, ..., 0.64571924, 0.61279838,\n",
       "        0.46094629],\n",
       "       [0.11974419, 0.25576311, 0.47665649, ..., 0.13940589, 0.15387344,\n",
       "        0.27830034]])"
      ]
     },
     "execution_count": 11,
     "metadata": {},
     "output_type": "execute_result"
    }
   ],
   "source": [
    "train_img = pca_cifar_train.inverse_transform(pca_train)\n",
    "train_img"
   ]
  },
  {
   "cell_type": "code",
   "execution_count": null,
   "metadata": {
    "id": "9oWrjv-a9Ym-"
   },
   "outputs": [],
   "source": [
    "# Dataset class labels\n",
    "labels =  ['apple', 'aquarium_fish', 'baby', 'bear', 'beaver', 'bed', 'bee', 'beetle', 'bicycle', 'bottle', 'bowl', 'boy', 'bridge', 'bus', 'butterfly', \n",
    "           'camel', 'can', 'castle', 'caterpillar', 'cattle', 'chair', 'chimpanzee', 'clock', 'cloud', 'cockroach', 'couch', 'crab', 'crocodile', 'cup', \n",
    "           'dinosaur', 'dolphin', 'elephant', 'flatfish', 'forest', 'fox', 'girl', 'hamster', 'house', 'kangaroo', 'computer_keyboard', \n",
    "           'lamp', 'lawn_mower', 'leopard', 'lion', 'lizard', 'lobster', 'man', 'maple_tree', 'motorcycle', 'mountain', 'mouse', 'mushroom', \n",
    "           'oak_tree', 'orange', 'orchid', 'otter', 'palm_tree', 'pear', 'pickup_truck', 'pine_tree', 'plain', 'plate', 'poppy', 'porcupine', 'possum', \n",
    "           'rabbit', 'raccoon', 'ray', 'road', 'rocket', 'rose', \n",
    "           'sea', 'seal', 'shark', 'shrew', 'skunk', 'skyscraper', 'snail', 'snake', 'spider', 'squirrel', 'streetcar', 'sunflower', 'sweet_pepper', \n",
    "           'table', 'tank', 'telephone', 'television', 'tiger', 'tractor', 'train', 'trout', 'tulip', 'turtle', \n",
    "           'wardrobe', 'whale', 'willow_tree', 'wolf', 'woman', 'worm']"
   ]
  },
  {
   "cell_type": "code",
   "execution_count": null,
   "metadata": {
    "id": "QxwptQj2WPfa"
   },
   "outputs": [],
   "source": [
    "pca_test = pca_cifar_train.transform(X_test_flat)"
   ]
  },
  {
   "cell_type": "code",
   "execution_count": null,
   "metadata": {
    "colab": {
     "base_uri": "https://localhost:8080/"
    },
    "id": "SkgIy28BWPi6",
    "outputId": "c2f377c4-8e0f-4827-983f-1a1a692fa1cb"
   },
   "outputs": [
    {
     "data": {
      "text/plain": [
       "(50000, 202)"
      ]
     },
     "execution_count": 16,
     "metadata": {},
     "output_type": "execute_result"
    }
   ],
   "source": [
    "pca_train.shape"
   ]
  },
  {
   "cell_type": "code",
   "execution_count": null,
   "metadata": {
    "colab": {
     "base_uri": "https://localhost:8080/"
    },
    "id": "RhhwafYPXdqb",
    "outputId": "20a1ea84-1b74-487e-e8d5-47ead69d98d4"
   },
   "outputs": [
    {
     "data": {
      "text/plain": [
       "(10000, 202)"
      ]
     },
     "execution_count": 17,
     "metadata": {},
     "output_type": "execute_result"
    }
   ],
   "source": [
    "pca_test.shape"
   ]
  },
  {
   "cell_type": "code",
   "execution_count": null,
   "metadata": {
    "id": "mJcmIZfkXvMZ"
   },
   "outputs": [],
   "source": [
    "#XG boost and base estimator \n",
    "from sklearn.ensemble import RandomForestClassifier\n",
    "import xgboost as xgb"
   ]
  },
  {
   "cell_type": "code",
   "execution_count": null,
   "metadata": {
    "colab": {
     "base_uri": "https://localhost:8080/"
    },
    "id": "CCm9Cp4PXzVM",
    "outputId": "c5822df1-590c-4c5c-dad5-b906e2a74192"
   },
   "outputs": [
    {
     "data": {
      "text/plain": [
       "XGBClassifier(base_estimator=RandomForestClassifier(n_estimators=10),\n",
       "              learning_rate=1, n_estimators=10, n_jobs=-1, nthread=2)"
      ]
     },
     "execution_count": 19,
     "metadata": {},
     "output_type": "execute_result"
    }
   ],
   "source": [
    "rfc = RandomForestClassifier(n_estimators=10)\n",
    "# Create XGboost classifer object\n",
    "xg_reg = xgb.XGBClassifier(n_estimators=10,learning_rate=1,base_estimator=rfc,n_jobs=-1,nthread=2) \n",
    "xg_reg"
   ]
  },
  {
   "cell_type": "code",
   "execution_count": null,
   "metadata": {
    "id": "dSeoCi6ZXzXr"
   },
   "outputs": [],
   "source": [
    "# Train XGBoost Classifer\n",
    "model = xg_reg.fit(pca_train, y_train.flatten(),verbose=True)\n",
    "\n",
    "#Predict the response for test dataset\n",
    "y_pred = model.predict(pca_test)"
   ]
  },
  {
   "cell_type": "code",
   "execution_count": null,
   "metadata": {
    "colab": {
     "base_uri": "https://localhost:8080/"
    },
    "id": "-BKTJQmvXzbj",
    "outputId": "50a58723-a128-4c88-f710-1b90c2ba5453"
   },
   "outputs": [
    {
     "name": "stdout",
     "output_type": "stream",
     "text": [
      "              precision    recall  f1-score   support\n",
      "\n",
      "           0       0.29      0.16      0.21       100\n",
      "           1       0.13      0.11      0.12       100\n",
      "           2       0.02      0.02      0.02       100\n",
      "           3       0.11      0.12      0.12       100\n",
      "           4       0.08      0.08      0.08       100\n",
      "           5       0.04      0.03      0.03       100\n",
      "           6       0.05      0.03      0.04       100\n",
      "           7       0.14      0.10      0.12       100\n",
      "           8       0.10      0.04      0.06       100\n",
      "           9       0.10      0.10      0.10       100\n",
      "          10       0.07      0.05      0.06       100\n",
      "          11       0.07      0.05      0.06       100\n",
      "          12       0.14      0.12      0.13       100\n",
      "          13       0.05      0.07      0.06       100\n",
      "          14       0.06      0.05      0.06       100\n",
      "          15       0.07      0.05      0.06       100\n",
      "          16       0.05      0.02      0.03       100\n",
      "          17       0.19      0.22      0.21       100\n",
      "          18       0.15      0.13      0.14       100\n",
      "          19       0.08      0.06      0.07       100\n",
      "          20       0.10      0.05      0.07       100\n",
      "          21       0.13      0.15      0.14       100\n",
      "          22       0.04      0.02      0.03       100\n",
      "          23       0.20      0.18      0.19       100\n",
      "          24       0.07      0.57      0.13       100\n",
      "          25       0.00      0.00      0.00       100\n",
      "          26       0.07      0.03      0.04       100\n",
      "          27       0.09      0.08      0.09       100\n",
      "          28       0.10      0.04      0.06       100\n",
      "          29       0.04      0.06      0.05       100\n",
      "          30       0.09      0.05      0.07       100\n",
      "          31       0.06      0.07      0.06       100\n",
      "          32       0.11      0.06      0.08       100\n",
      "          33       0.12      0.17      0.14       100\n",
      "          34       0.09      0.09      0.09       100\n",
      "          35       0.13      0.12      0.13       100\n",
      "          36       0.18      0.13      0.15       100\n",
      "          37       0.08      0.09      0.08       100\n",
      "          38       0.10      0.11      0.10       100\n",
      "          39       0.09      0.04      0.06       100\n",
      "          40       0.02      0.01      0.01       100\n",
      "          41       0.16      0.09      0.11       100\n",
      "          42       0.07      0.08      0.08       100\n",
      "          43       0.10      0.11      0.11       100\n",
      "          44       0.02      0.01      0.01       100\n",
      "          45       0.04      0.03      0.03       100\n",
      "          46       0.04      0.03      0.03       100\n",
      "          47       0.10      0.11      0.10       100\n",
      "          48       0.08      0.07      0.07       100\n",
      "          49       0.06      0.13      0.08       100\n",
      "          50       0.03      0.02      0.02       100\n",
      "          51       0.09      0.08      0.08       100\n",
      "          52       0.19      0.18      0.18       100\n",
      "          53       0.17      0.06      0.09       100\n",
      "          54       0.13      0.10      0.11       100\n",
      "          55       0.09      0.03      0.04       100\n",
      "          56       0.12      0.10      0.11       100\n",
      "          57       0.04      0.03      0.03       100\n",
      "          58       0.11      0.10      0.11       100\n",
      "          59       0.06      0.07      0.07       100\n",
      "          60       0.30      0.30      0.30       100\n",
      "          61       0.14      0.10      0.12       100\n",
      "          62       0.09      0.13      0.11       100\n",
      "          63       0.16      0.21      0.18       100\n",
      "          64       0.06      0.07      0.07       100\n",
      "          65       0.03      0.01      0.01       100\n",
      "          66       0.02      0.02      0.02       100\n",
      "          67       0.05      0.06      0.05       100\n",
      "          68       0.17      0.16      0.16       100\n",
      "          69       0.07      0.06      0.07       100\n",
      "          70       0.05      0.22      0.08       100\n",
      "          71       0.18      0.21      0.19       100\n",
      "          72       0.02      0.03      0.02       100\n",
      "          73       0.15      0.09      0.11       100\n",
      "          74       0.07      0.11      0.09       100\n",
      "          75       0.12      0.16      0.14       100\n",
      "          76       0.12      0.14      0.13       100\n",
      "          77       0.06      0.03      0.04       100\n",
      "          78       0.02      0.01      0.01       100\n",
      "          79       0.05      0.02      0.03       100\n",
      "          80       0.04      0.05      0.05       100\n",
      "          81       0.02      0.02      0.02       100\n",
      "          82       0.15      0.31      0.20       100\n",
      "          83       0.09      0.09      0.09       100\n",
      "          84       0.00      0.00      0.00       100\n",
      "          85       0.14      0.13      0.13       100\n",
      "          86       0.04      0.03      0.03       100\n",
      "          87       0.13      0.09      0.11       100\n",
      "          88       0.08      0.08      0.08       100\n",
      "          89       0.17      0.17      0.17       100\n",
      "          90       0.07      0.08      0.07       100\n",
      "          91       0.11      0.08      0.09       100\n",
      "          92       0.10      0.08      0.09       100\n",
      "          93       0.09      0.03      0.05       100\n",
      "          94       0.15      0.10      0.12       100\n",
      "          95       0.03      0.03      0.03       100\n",
      "          96       0.15      0.14      0.14       100\n",
      "          97       0.07      0.07      0.07       100\n",
      "          98       0.01      0.01      0.01       100\n",
      "          99       0.06      0.07      0.06       100\n",
      "\n",
      "    accuracy                           0.09     10000\n",
      "   macro avg       0.09      0.09      0.09     10000\n",
      "weighted avg       0.09      0.09      0.09     10000\n",
      "\n"
     ]
    }
   ],
   "source": [
    "from sklearn import metrics\n",
    "print(metrics.classification_report(y_test, y_pred))"
   ]
  },
  {
   "cell_type": "code",
   "execution_count": null,
   "metadata": {
    "colab": {
     "base_uri": "https://localhost:8080/"
    },
    "id": "GQ-mf6qDXvP5",
    "outputId": "e0a7059b-b8fb-4ae5-ab23-93d9acb638e0"
   },
   "outputs": [
    {
     "name": "stdout",
     "output_type": "stream",
     "text": [
      "RMSE: 38.496565\n"
     ]
    }
   ],
   "source": [
    "from sklearn.metrics import mean_squared_error\n",
    "rmse = np.sqrt(mean_squared_error(y_test, y_pred))\n",
    "print(\"RMSE: %f\" % (rmse))"
   ]
  },
  {
   "cell_type": "code",
   "execution_count": null,
   "metadata": {
    "colab": {
     "base_uri": "https://localhost:8080/"
    },
    "id": "ywzmo1fBZIiK",
    "outputId": "2ff76488-3799-4539-e4b8-f3a77b8bfabe"
   },
   "outputs": [
    {
     "data": {
      "text/plain": [
       "array([[16,  2,  1, ...,  0,  0,  2],\n",
       "       [ 0, 11,  0, ...,  2,  1,  0],\n",
       "       [ 1,  1,  2, ...,  5,  4,  0],\n",
       "       ...,\n",
       "       [ 0,  2,  3, ...,  7,  2,  2],\n",
       "       [ 1,  1,  4, ...,  1,  1,  0],\n",
       "       [ 0,  1,  1, ...,  1,  0,  7]])"
      ]
     },
     "execution_count": 48,
     "metadata": {},
     "output_type": "execute_result"
    }
   ],
   "source": [
    "#evaluate model\n",
    "cm = metrics.confusion_matrix(y_test, y_pred)\n",
    "cm"
   ]
  },
  {
   "cell_type": "code",
   "execution_count": null,
   "metadata": {
    "colab": {
     "base_uri": "https://localhost:8080/"
    },
    "id": "X5Cr0BEVZIkm",
    "outputId": "65cef92d-4a3b-4d60-eb59-5a490b8a0110"
   },
   "outputs": [
    {
     "name": "stdout",
     "output_type": "stream",
     "text": [
      "Accuracy: 0.0896\n"
     ]
    }
   ],
   "source": [
    "# Model Accuracy\n",
    "print(\"Accuracy:\",metrics.accuracy_score(y_test, y_pred))"
   ]
  },
  {
   "cell_type": "code",
   "execution_count": null,
   "metadata": {
    "id": "-pRbcGUsB91Z"
   },
   "outputs": [],
   "source": [
    "from keras.preprocessing import image\n",
    "camel = image.load_img(\"camel.jpg\", target_size=(32,32,3))\n",
    "televison = image.load_img(\"television.jpg\", target_size=(32,32,3))\n",
    "truck = image.load_img(\"truck.jpg\", target_size=(32,32,3))\n",
    "wardrobe = image.load_img(\"wardrobe.jpg\", target_size=(32,32,3))"
   ]
  },
  {
   "cell_type": "code",
   "execution_count": null,
   "metadata": {
    "id": "IZMZPrKyGDnH"
   },
   "outputs": [],
   "source": [
    "l = [camel,televison,truck,wardrobe]"
   ]
  },
  {
   "cell_type": "code",
   "execution_count": null,
   "metadata": {
    "colab": {
     "base_uri": "https://localhost:8080/",
     "height": 1000
    },
    "id": "zYhXA1-7GIew",
    "outputId": "2b78d6d0-c105-4e5e-ebe8-56ceaae75833"
   },
   "outputs": [
    {
     "name": "stdout",
     "output_type": "stream",
     "text": [
      "label index [47]\n",
      "maple_tree\n"
     ]
    },
    {
     "data": {
      "image/png": "[encoded data removed]",
      "text/plain": [
       "<Figure size 432x288 with 1 Axes>"
      ]
     },
     "metadata": {
      "needs_background": "light"
     },
     "output_type": "display_data"
    },
    {
     "name": "stdout",
     "output_type": "stream",
     "text": [
      "label index [82]\n",
      "sunflower\n"
     ]
    },
    {
     "data": {
      "image/png": "[encoded data removed]",
      "text/plain": [
       "<Figure size 432x288 with 1 Axes>"
      ]
     },
     "metadata": {
      "needs_background": "light"
     },
     "output_type": "display_data"
    },
    {
     "name": "stdout",
     "output_type": "stream",
     "text": [
      "label index [81]\n",
      "streetcar\n"
     ]
    },
    {
     "data": {
      "image/png": "[encoded data removed]",
      "text/plain": [
       "<Figure size 432x288 with 1 Axes>"
      ]
     },
     "metadata": {
      "needs_background": "light"
     },
     "output_type": "display_data"
    },
    {
     "name": "stdout",
     "output_type": "stream",
     "text": [
      "label index [67]\n",
      "ray\n"
     ]
    },
    {
     "data": {
      "image/png": "[encoded data removed]",
      "text/plain": [
       "<Figure size 432x288 with 1 Axes>"
      ]
     },
     "metadata": {
      "needs_background": "light"
     },
     "output_type": "display_data"
    }
   ],
   "source": [
    "for i in l:\n",
    "  image_1 = image.img_to_array(i) \n",
    "  image_1 = image_1 / 255.0\n",
    "  image_1 = image_1.reshape(-1,3072)\n",
    "  prediction_image_1 = np.array(image_1)\n",
    "  prediction_image_1 = np.expand_dims(image_1, axis=0)\n",
    "  prediction_image_1 = prediction_image_1.reshape(-1)\n",
    "  df = pd.DataFrame(prediction_image_1)\n",
    "  df = df.T\n",
    "  df[3073] =0\n",
    "  principalComponents_df = pca_cifar_train.transform(df.iloc[:,:-1])\n",
    "  # Get prediction\n",
    "  prediction_1 = model.predict(principalComponents_df[[0]])\n",
    "  print(\"label index\",prediction_1)\n",
    "  print(labels[prediction_1[0]])\n",
    "  grid_data = image_1.reshape(32,32,3)\n",
    "  plt.imshow(grid_data, interpolation = \"none\", cmap = \"gray\")\n",
    "  plt.show()\n"
   ]
  },
  {
   "cell_type": "code",
   "execution_count": null,
   "metadata": {
    "colab": {
     "base_uri": "https://localhost:8080/",
     "height": 301
    },
    "id": "5o0B3NZDZqoT",
    "outputId": "26c098d6-b036-4d5a-a781-39002d22f35f"
   },
   "outputs": [
    {
     "name": "stdout",
     "output_type": "stream",
     "text": [
      "label index [67]\n",
      "ray\n"
     ]
    },
    {
     "data": {
      "image/png": "[encoded data removed]",
      "text/plain": [
       "<Figure size 432x288 with 1 Axes>"
      ]
     },
     "metadata": {
      "needs_background": "light"
     },
     "output_type": "display_data"
    }
   ],
   "source": [
    "##Validating image\n",
    "from keras.preprocessing import image\n",
    "\n",
    "image_1 = image.load_img(\"wardrobe.jpg\", target_size=(32,32,3))\n",
    "image_1 = image.img_to_array(image_1) \n",
    "image_1 = image_1 / 255.0\n",
    "image_1 = image_1.reshape(-1,3072)\n",
    "#image_1.shape\n",
    "prediction_image_1 = np.array(image_1)\n",
    "prediction_image_1\n",
    "#prediction_image_1.ndim\n",
    "prediction_image_1 = np.expand_dims(image_1, axis=0)\n",
    "prediction_image_1 = prediction_image_1.reshape(-1)\n",
    "#prediction_image_1\n",
    "df = pd.DataFrame(prediction_image_1)\n",
    "df = df.T\n",
    "df[3073] =0\n",
    "df\n",
    "principalComponents_df = pca_cifar_train.transform(df.iloc[:,:-1])\n",
    "#principalComponents_df = pd.DataFrame(principalComponents_df)\n",
    "principalComponents_df\n",
    "# Get prediction\n",
    "prediction_1 = model.predict(principalComponents_df[[0]])\n",
    "print(\"label index\",prediction_1)\n",
    "print(labels[prediction_1[0]])\n",
    "grid_data = image_1.reshape(32,32,3)\n",
    "plt.imshow(grid_data, interpolation = \"none\", cmap = \"gray\")\n",
    "plt.show()\n"
   ]
  },
  {
   "cell_type": "markdown",
   "metadata": {
    "id": "mVrTxGqNC0HF"
   },
   "source": [
    "## Problem 2\n",
    "\n",
    "## Perform Text Classification on the tweet data about COVID19. The tweets have been pulled from Twitter and manual tagging has been done then. The relevant CSV file have been attached in D2L.\n",
    "\n",
    "## A sample .ipynb work file for this problem have been provided with spam.csv file (File used in Class). This file contains code for TF-IDF along with Gensim LDA package to find latent topics for the tweets (Topic Modelling). \n",
    "\n",
    "## Top of the code file contains relevent references for the code, please go through them. Few things are missing in the code that you need to apply to complete it.\n",
    "\n",
    "### 1. Use the original Tweet File instead of my sample spam.csv file for your work. [2 Marks]\n",
    "### 2. Properly remove punctuations, stopwords and any words of length 1 or 2. [3 Marks]\n",
    "### 3. Get the wordcloud (as mentioned in the code) after apply step 1 (This has not been done in the code). [2 Marks]\n",
    "### 4. Change number of Topics to 20 in the Gensim LDAMulticore and draw the visualisation asshown in samplecode. [3 Marks]\n",
    "### 5. Write a complete code using TF-IDF along with Random Forest Classifier to build a Tweet Sentiment classification Model.Use your own discretion to determine the relevant hyperparameters and model parameters. Make sure to provide justification while dropping a column. Remember this is a multiclass classification problem. Give the relevant precision and recall for the model.[10 Marks]\n",
    "\n",
    "\n",
    "## Columns:\n",
    "## 1) Location\n",
    "## 2) Tweet At\n",
    "## 3) Original Tweet\n",
    "## 4) Sentiment (To be predicted)"
   ]
  },
  {
   "cell_type": "markdown",
   "metadata": {
    "id": "U-96aau50_EV"
   },
   "source": []
  },
  {
   "cell_type": "code",
   "execution_count": null,
   "metadata": {
    "id": "BHcI20n8E27L"
   },
   "outputs": [],
   "source": [
    "# 1.  Use the original Tweet File instead of my sample spam.csv file for your work. [2 Marks]"
   ]
  },
  {
   "cell_type": "code",
   "execution_count": null,
   "metadata": {
    "id": "zunyuMyqs4Aj"
   },
   "outputs": [],
   "source": [
    "import nltk\n",
    "nltk.download('stopwords')\n",
    "\n",
    "import gensim\n",
    "from gensim import corpora, models\n",
    "\n",
    "from pprint import pprint\n"
   ]
  },
  {
   "cell_type": "code",
   "execution_count": null,
   "metadata": {
    "id": "PiP2SeAUs4DH"
   },
   "outputs": [],
   "source": [
    "!pip install pyLDAvis\n",
    "\n",
    "import pyLDAvis\n",
    "import pyLDAvis.gensim_models as gensimvis\n",
    "import matplotlib.pyplot as plt\n",
    "%matplotlib inline"
   ]
  },
  {
   "cell_type": "code",
   "execution_count": null,
   "metadata": {
    "id": "PzepXixAs4FR"
   },
   "outputs": [],
   "source": [
    "import pandas as pd\n",
    "\n",
    "stopwords = nltk.corpus.stopwords.words('english')\n",
    "messages = pd.read_csv('Corona_NLP_train.csv', encoding='latin-1')"
   ]
  },
  {
   "cell_type": "markdown",
   "metadata": {
    "id": "lbstzan8uCsT"
   },
   "source": []
  },
  {
   "cell_type": "code",
   "execution_count": null,
   "metadata": {
    "id": "xd6gy-EYs4H-"
   },
   "outputs": [],
   "source": [
    "messages.head()"
   ]
  },
  {
   "cell_type": "code",
   "execution_count": null,
   "metadata": {
    "id": "ElBAkU3ws4KU"
   },
   "outputs": [],
   "source": [
    "# 2. Properly remove punctuations, stopwords and any words of length 1 or 2. [3 Marks]"
   ]
  },
  {
   "cell_type": "code",
   "execution_count": null,
   "metadata": {
    "id": "x-HOisPEvWhp"
   },
   "outputs": [],
   "source": [
    "messages['punctuation_removal'] = messages['OriginalTweet'].str.replace('[^\\w\\s]','', regex=True)"
   ]
  },
  {
   "cell_type": "code",
   "execution_count": null,
   "metadata": {
    "id": "Bt-BjG2UvS4I"
   },
   "outputs": [],
   "source": [
    "#stopwords = set(stopwords.words('english'))\n",
    "stopwords =  ['a', 'about', 'above', 'after', 'again', 'ain', 'all', 'am', 'an',\n",
    "             'and','any','are', 'as', 'at', 'be', 'because', 'been', 'before',\n",
    "             'being', 'below', 'between','both', 'by', 'can', 'd', 'did', 'do',\n",
    "             'does', 'doing', 'down', 'during', 'each','few', 'for', 'from',\n",
    "             'further', 'had', 'has', 'have', 'having', 'he', 'her', 'here',\n",
    "             'hers', 'herself', 'him', 'himself', 'his', 'how', 'i', 'if', 'in',\n",
    "             'into','is', 'it', 'its', 'itself', 'just', 'll', 'm', 'ma',\n",
    "             'me', 'more', 'most','my', 'myself', 'now', 'o', 'of', 'on', 'once',\n",
    "             'only', 'or', 'other', 'our', 'ours','ourselves', 'out', 'own', 're','s',\n",
    "              'same', 'she', \"shes\", 'should', \"shouldve\",'so', 'some', 'such',\n",
    "             't', 'than', 'that', \"thatll\", 'the', 'their', 'theirs', 'them',\n",
    "             'themselves', 'then', 'there', 'these', 'they', 'this', 'those',\n",
    "             'through', 'to', 'too','under', 'until', 'up', 've', 'very', 'was',\n",
    "             'we', 'were', 'what', 'when', 'where','which','while', 'who', 'whom',\n",
    "             'why', 'will', 'with', 'won', 'y', 'you', \"youd\",\"youll\", \"youre\",\n",
    "             \"youve\", 'your', 'yours', 'yourself', 'yourselves']\n",
    "def remove_stopwords(text):\n",
    "    return \" \".join([word for word in str(text).split() if word not in stopwords])\n",
    "\n",
    "messages[\"punctuation_removal\"] = messages[\"punctuation_removal\"].apply(lambda text: remove_stopwords(text))\n",
    "messages.head()"
   ]
  },
  {
   "cell_type": "code",
   "execution_count": null,
   "metadata": {
    "id": "qhlmUmsMvxhs"
   },
   "outputs": [],
   "source": [
    "def remove_length(text):\n",
    "    return ' '.join([w for w in str(text).split() if len(w)>2])\n",
    "\n",
    "messages[\"punctuation_removal\"] = messages[\"punctuation_removal\"].apply(lambda text: remove_length(text))\n",
    "messages.head()"
   ]
  },
  {
   "cell_type": "code",
   "execution_count": null,
   "metadata": {
    "id": "ZgO-ng0vxPRj"
   },
   "outputs": [],
   "source": [
    "# 3. Get the wordcloud (as mentioned in the code) after apply step 1 (This has not been done in the code). [2 Marks]"
   ]
  },
  {
   "cell_type": "code",
   "execution_count": null,
   "metadata": {
    "id": "VaE3mSayxVJQ"
   },
   "outputs": [],
   "source": [
    "#word cloud visualization for the text\n",
    "from wordcloud import WordCloud #visualization techniques for #frequently repeated texts\n",
    "wc = WordCloud(\n",
    "    background_color='black',\n",
    "    max_words = 100,\n",
    "    random_state = 42,\n",
    "    max_font_size=110\n",
    "    )\n",
    "\n",
    "wc.generate(' '.join(messages['punctuation_removal']))\n",
    "plt.figure(figsize=(50,7))\n",
    "plt.imshow(wc)\n",
    "plt.show()"
   ]
  },
  {
   "cell_type": "code",
   "execution_count": null,
   "metadata": {
    "id": "YkSiUFmXxmri"
   },
   "outputs": [],
   "source": [
    "# 4. Change number of Topics to 20 in the Gensim LDAMulticore and draw the visualisation asshown in samplecode. [3 Marks]"
   ]
  },
  {
   "cell_type": "code",
   "execution_count": null,
   "metadata": {
    "id": "a1YcAWYhxmu-"
   },
   "outputs": [],
   "source": [
    "documents = messages['punctuation_removal'].tolist()\n",
    "\n",
    "# remove common words and tokenize\n",
    "texts = [\n",
    "    [word for word in document.lower().split() if word not in stopwords]\n",
    "    for document in documents\n",
    "]\n",
    "\n",
    "dictionary = corpora.Dictionary(texts)\n",
    "corpus = [dictionary.doc2bow(text) for text in texts]"
   ]
  },
  {
   "cell_type": "code",
   "execution_count": null,
   "metadata": {
    "id": "AGvOi2P7x2f-"
   },
   "outputs": [],
   "source": [
    "corpus[1:2]"
   ]
  },
  {
   "cell_type": "code",
   "execution_count": null,
   "metadata": {
    "id": "q8vkAqEWx2ns"
   },
   "outputs": [],
   "source": [
    "tfidf = models.TfidfModel(corpus)\n",
    "\n",
    "corpus_tfidf = tfidf[corpus]\n",
    "for doc in corpus_tfidf:\n",
    "    print(doc)"
   ]
  },
  {
   "cell_type": "code",
   "execution_count": null,
   "metadata": {
    "id": "Ut3K-7wpzHI-"
   },
   "outputs": [],
   "source": [
    "lda_model = gensim.models.LdaMulticore(corpus_tfidf, \n",
    "                                       num_topics=20, \n",
    "                                       id2word = dictionary, \n",
    "                                       passes = 2, \n",
    "                                       workers=2)"
   ]
  },
  {
   "cell_type": "code",
   "execution_count": null,
   "metadata": {
    "id": "rPWTskaTzZ8K"
   },
   "outputs": [],
   "source": [
    "#explore the words occuring in that topic and its relative weight\n",
    "for idx, topic in lda_model.print_topics(-1):\n",
    "    print(\"Topic: {} \\nWords: {}\".format(idx, topic))\n",
    "    print(\"\\n\")"
   ]
  },
  {
   "cell_type": "code",
   "execution_count": null,
   "metadata": {
    "id": "Q0f4UtoKzgnt"
   },
   "outputs": [],
   "source": [
    "top_topics = lda_model.top_topics(corpus_tfidf)\n",
    "num_topics = 20\n",
    "# Average topic coherence is the sum of topic coherences of all topics, divided by the number of topics.\n",
    "avg_topic_coherence = sum([t[1] for t in top_topics]) / num_topics\n",
    "print('Average topic coherence: %.4f.' % avg_topic_coherence)\n",
    "\n",
    "from pprint import pprint\n",
    "pprint(top_topics)"
   ]
  },
  {
   "cell_type": "code",
   "execution_count": null,
   "metadata": {
    "id": "q8SNUEJ2zkin"
   },
   "outputs": [],
   "source": [
    "# Compute Perplexity\n",
    "print('\\nPerplexity: ', lda_model.log_perplexity(corpus_tfidf))  \n",
    "# a measure of how good the model is. lower the better.\n"
   ]
  },
  {
   "cell_type": "code",
   "execution_count": null,
   "metadata": {
    "id": "jOFgn3i7zngn"
   },
   "outputs": [],
   "source": [
    "pyLDAvis.enable_notebook()\n",
    "vis = gensimvis.prepare(lda_model, corpus_tfidf, dictionary)\n",
    "vis"
   ]
  },
  {
   "cell_type": "markdown",
   "metadata": {
    "id": "u8XBB3Kt1CBW"
   },
   "source": [
    "5. Write a complete code using TF-IDF along with Random Forest Classifier to build a Tweet Sentiment classification Model.Use your own discretion to determine the relevant hyperparameters and model parameters. Make sure to provide justification while dropping a column. Remember this is a multiclass classification problem. Give the relevant precision and recall for the model.[10 Marks]\n",
    "Columns:\n",
    "1) Location\n",
    "2) Tweet At\n",
    "3) Original Tweet\n",
    "4) Sentiment (To be predicted)"
   ]
  },
  {
   "cell_type": "code",
   "execution_count": null,
   "metadata": {
    "id": "0TrgWyBO0bGL"
   },
   "outputs": [],
   "source": []
  },
  {
   "cell_type": "code",
   "execution_count": null,
   "metadata": {
    "id": "IIzMUl7i0bJa"
   },
   "outputs": [],
   "source": [
    "from sklearn.feature_extraction.text import TfidfVectorizer  \n",
    "tfidf_vect = TfidfVectorizer(min_df=5, max_df=0.7)\n",
    "X_tfidf = tfidf_vect.fit_transform(messages['punctuation_removal'])\n",
    "X_features = pd.DataFrame(X_tfidf.toarray())\n",
    "X_features.head()"
   ]
  },
  {
   "cell_type": "code",
   "execution_count": null,
   "metadata": {
    "id": "galiRw686Y5c"
   },
   "outputs": [],
   "source": [
    "from sklearn.model_selection import train_test_split  \n",
    "X_train, X_test, y_train, y_test = train_test_split(X_features, messages['Sentiment'], test_size=0.2, random_state=0)"
   ]
  },
  {
   "cell_type": "code",
   "execution_count": null,
   "metadata": {
    "id": "WoGwOyxT6wh4"
   },
   "outputs": [],
   "source": [
    "from sklearn.ensemble import RandomForestClassifier\n",
    "text_classifier = RandomForestClassifier(n_estimators=10, random_state=0)  \n",
    "text_classifier.fit(X_train, y_train)"
   ]
  },
  {
   "cell_type": "code",
   "execution_count": null,
   "metadata": {
    "id": "4GixV80T61s6"
   },
   "outputs": [],
   "source": [
    "predictions = text_classifier.predict(X_test)"
   ]
  },
  {
   "cell_type": "code",
   "execution_count": null,
   "metadata": {
    "id": "ehpp7hzu7FNl"
   },
   "outputs": [],
   "source": [
    "from sklearn.metrics import classification_report, confusion_matrix, accuracy_score\n",
    " \n",
    "print(confusion_matrix(y_test,predictions))  \n",
    "print(classification_report(y_test,predictions))  \n",
    "print(accuracy_score(y_test, predictions))"
   ]
  }
 ],
 "metadata": {
  "accelerator": "GPU",
  "colab": {
   "collapsed_sections": [],
   "name": "Assignment_CPSC4830_Midterm2_Summer2022_Bonus.ipynb",
   "provenance": []
  },
  "gpuClass": "standard",
  "kernelspec": {
   "display_name": "Python 3",
   "language": "python",
   "name": "python3"
  },
  "language_info": {
   "codemirror_mode": {
    "name": "ipython",
    "version": 3
   },
   "file_extension": ".py",
   "mimetype": "text/x-python",
   "name": "python",
   "nbconvert_exporter": "python",
   "pygments_lexer": "ipython3",
   "version": "3.8.8"
  }
 },
 "nbformat": 4,
 "nbformat_minor": 1
}
